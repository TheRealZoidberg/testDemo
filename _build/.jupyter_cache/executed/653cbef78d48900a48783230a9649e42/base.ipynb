{
 "cells": [
  {
   "cell_type": "code",
   "execution_count": 1,
   "metadata": {},
   "outputs": [],
   "source": [
    "from sys import exit\n",
    "import os\n",
    "import json\n",
    "from glob import glob\n",
    "\n",
    "import numpy as np\n",
    "\n",
    "from jwst.pipeline import Detector1Pipeline\n",
    "from jwst.pipeline import Image2Pipeline\n",
    "from jwst.pipeline import calwebb_image2\n",
    "\n",
    "from astropy.table import Table\n",
    "from astropy.io import fits\n"
   ]
  },
  {
   "cell_type": "code",
   "execution_count": 2,
   "metadata": {},
   "outputs": [
    {
     "name": "stdout",
     "output_type": "stream",
     "text": [
      "/Users/gough/nbcollectDeploy/update/jdat_notebooks/notebooks/preimaging\n"
     ]
    }
   ],
   "source": [
    "path='./.' # this is the working directory\n",
    "os.chdir(path)\n",
    "print(os.getcwd())"
   ]
  },
  {
   "cell_type": "code",
   "execution_count": 3,
   "metadata": {},
   "outputs": [],
   "source": [
    "filtname = 'f150w'"
   ]
  },
  {
   "cell_type": "code",
   "execution_count": 4,
   "metadata": {},
   "outputs": [],
   "source": [
    "# gather the F150W yaml files back in the working directory\n",
    "cwd = os.getcwd()\n",
    "filter_pattern = os.path.join(cwd, 'yaml', filtname.lower(), 'jw*yaml') \n",
    "files = glob(filter_pattern)[:]\n",
    "inputyaml = files\n",
    "namelist = []\n",
    "outlist = []"
   ]
  },
  {
   "cell_type": "code",
   "execution_count": 5,
   "metadata": {},
   "outputs": [],
   "source": [
    "calwebb_detector1_file = os.path.join('preimaging', 'calwebb_detector1.cfg')"
   ]
  },
  {
   "cell_type": "code",
   "execution_count": 6,
   "metadata": {},
   "outputs": [
    {
     "name": "stdout",
     "output_type": "stream",
     "text": [
      "[]\n",
      "[]\n"
     ]
    }
   ],
   "source": [
    "for input_yaml_path in inputyaml:\n",
    "    print(input_yaml_path) \n",
    "    \n",
    "    base = os.path.basename(input_yaml_path)\n",
    "    name = os.path.splitext(base)[0]\n",
    "\n",
    "    exi = os.path.exists(name + '_rate.fits')\n",
    "    if exi:\n",
    "        continue\n",
    "        \n",
    "    namelist.append(name + '_uncal.fits')\n",
    "    outlist.append(name + '.fits')\n",
    "    \n",
    "print(namelist)\n",
    "print(outlist)\n",
    "\n",
    "files  = namelist \n",
    "outfile = outlist \n",
    "\n",
    "\n",
    "for k, filename in enumerate(files):\n",
    "    Detector1Pipeline.call(filename, config_file=calwebb_detector1_file, \n",
    "                           output_file=outfile[k]);\n"
   ]
  },
  {
   "cell_type": "code",
   "execution_count": 7,
   "metadata": {},
   "outputs": [],
   "source": [
    "# gather the F150W yaml files back in the working directory\n",
    "cwd = os.getcwd()\n",
    "filter_pattern = os.path.join(cwd, 'yaml', filtname.lower(), 'jw*yaml') \n",
    "files = glob(filter_pattern)[:] # Use [0:2] to test the first two files.\n",
    "inputyaml = files\n",
    "namelist = []\n",
    "outlist = []"
   ]
  },
  {
   "cell_type": "code",
   "execution_count": 8,
   "metadata": {},
   "outputs": [
    {
     "name": "stdout",
     "output_type": "stream",
     "text": [
      "[]\n"
     ]
    }
   ],
   "source": [
    "for input_yaml_path in inputyaml:\n",
    "    print(input_yaml_path)\n",
    "    base = os.path.basename(input_yaml_path)\n",
    "    name = os.path.splitext(base)[0]\n",
    "   \n",
    "    exi = os.path.exists(name + '_cal.fits')\n",
    "    if exi:\n",
    "        continue\n",
    "\n",
    "    namelist.append(name + '_rate.fits')\n",
    "    outlist.append(name + '.fits')\n",
    "        \n",
    "print(namelist)\n",
    "    \n",
    "files = namelist \n",
    "outfile = outlist "
   ]
  },
  {
   "cell_type": "code",
   "execution_count": 9,
   "metadata": {},
   "outputs": [],
   "source": [
    "for k, filename in enumerate(files):\n",
    "    print('-'*60)\n",
    "    print(filename)\n",
    "\n",
    "    m  =  calwebb_image2.Image2Pipeline(output_file=outfile[k])\n",
    "    m.run(filename)\n",
    "   "
   ]
  }
 ],
 "metadata": {
  "anaconda-cloud": {},
  "kernelspec": {
   "display_name": "Python 3",
   "language": "python",
   "name": "python3"
  },
  "language_info": {
   "codemirror_mode": {
    "name": "ipython",
    "version": 3
   },
   "file_extension": ".py",
   "mimetype": "text/x-python",
   "name": "python",
   "nbconvert_exporter": "python",
   "pygments_lexer": "ipython3",
   "version": "3.8.10"
  }
 },
 "nbformat": 4,
 "nbformat_minor": 1
}